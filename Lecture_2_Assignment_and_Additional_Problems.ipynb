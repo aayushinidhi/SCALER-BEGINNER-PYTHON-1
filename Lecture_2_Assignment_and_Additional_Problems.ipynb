{
  "nbformat": 4,
  "nbformat_minor": 0,
  "metadata": {
    "colab": {
      "provenance": []
    },
    "kernelspec": {
      "name": "python3",
      "display_name": "Python 3"
    },
    "language_info": {
      "name": "python"
    }
  },
  "cells": [
    {
      "cell_type": "markdown",
      "source": [
        "***ASSIGNMENT PROBLEMS***"
      ],
      "metadata": {
        "id": "Wd8FLz9YoUTR"
      }
    },
    {
      "cell_type": "markdown",
      "source": [
        "Ques1 . Print the result of expression\n",
        "\n",
        "\n",
        "Print the result of the following expression:\n",
        "\n",
        "(3 + 4) // 2 + 6"
      ],
      "metadata": {
        "id": "RnbGX55MhiMd"
      }
    },
    {
      "cell_type": "code",
      "execution_count": 1,
      "metadata": {
        "colab": {
          "base_uri": "https://localhost:8080/"
        },
        "id": "FwhD2ybMg0rU",
        "outputId": "51fc9a8c-2ea2-45a6-f7c6-89c5c9c751c3"
      },
      "outputs": [
        {
          "output_type": "stream",
          "name": "stdout",
          "text": [
            "9\n"
          ]
        }
      ],
      "source": [
        "print(9)"
      ]
    },
    {
      "cell_type": "markdown",
      "source": [
        "Ques 2. Set the values\n",
        "\n",
        "\n",
        "Set the value of variable a, b and c such that the following condition evaluates to true:\n",
        "\n",
        "a = -1 # change this\n",
        "\n",
        "b = -1 # change this\n",
        "\n",
        "c = -1 # change this\n",
        "\n",
        "x = a < b + c(Do not Change This)\n",
        "\n",
        "print(x) # this should be True\n",
        "\n",
        "Note: You need to write the code from scratch in the code edit"
      ],
      "metadata": {
        "id": "fd3PN2tGiR6Q"
      }
    },
    {
      "cell_type": "code",
      "source": [
        "a = -1 # change this\n",
        "b =  1   # __ change this\n",
        "c =  -1 # __ change this\n",
        "\n",
        "# DO NOT CHANGE THIS\n",
        "x = a < b + c\n",
        "\n",
        "print(x) # this should be True"
      ],
      "metadata": {
        "colab": {
          "base_uri": "https://localhost:8080/"
        },
        "id": "N0YoUT6uho2A",
        "outputId": "5f0a75c3-ad48-4f8b-d571-4e3de7686593"
      },
      "execution_count": 2,
      "outputs": [
        {
          "output_type": "stream",
          "name": "stdout",
          "text": [
            "True\n"
          ]
        }
      ]
    },
    {
      "cell_type": "markdown",
      "source": [
        "Ques 3. Number of bills\n",
        "\n",
        "Problem Description\n",
        "\n",
        "Given total bills amount and amount of a single bill. Print number of bills.\n",
        "\n",
        "Note : The total amount is equally splitted in all bills. The number of bills should be an integer value.\n",
        "\n",
        "Input Format\n",
        "\n",
        "The first line contains a real number N denoting the total budget.\n",
        "\n",
        "The second line contains an integer M denoting the value of a single bill.\n",
        "\n",
        "Output Format\n",
        "\n",
        "Print in a single line denoting the total number of bills that can fit in the total budget.\n",
        "\n",
        "Problem Constraints\n",
        "\n",
        "1 <= N <= 10000\n",
        "\n",
        "1 <= M <= 100\n",
        "\n",
        "Example Input:\n",
        "\n",
        "\n",
        "Input:-\n",
        "\n",
        "126.3\n",
        "\n",
        "5\n",
        "\n",
        "Example Output:\n",
        "\n",
        "Output:-\n",
        "\n",
        "25\n",
        "\n",
        "Note: The problem constraints mean that when we test your code, the test cases used in the backend can have input values only within those constraints. You need not implement them in your code. You need to make sure your code will work for all such input values!"
      ],
      "metadata": {
        "id": "ZD4QWyk0k698"
      }
    },
    {
      "cell_type": "code",
      "source": [
        "N=float(input()) # N is  a real no->int('126.3') will give error as int will not recognise decimal\n",
        "M=int(input())\n",
        "print(int(N/M))    #float/int->float hence convert it to int"
      ],
      "metadata": {
        "colab": {
          "base_uri": "https://localhost:8080/"
        },
        "id": "CMutKHpwikp1",
        "outputId": "91de2d49-d0ed-4eb6-de9f-3d8ede7db50c"
      },
      "execution_count": 3,
      "outputs": [
        {
          "output_type": "stream",
          "name": "stdout",
          "text": [
            "126.3\n",
            "5\n",
            "25\n"
          ]
        }
      ]
    },
    {
      "cell_type": "markdown",
      "source": [
        "Ques 4. Spammer Trouble\n",
        "\n",
        "A group of spammers is troubling Varun by calling on his mobile phone repeatedly. After a while, Varun observed a pattern that the mobile number from which the spammers call him is always lesser than his mobile number when compared on the number line. The mobile number of Varun is 1234880990. Given a mobile number as an input print True if the number belongs to the spammers else False.\n",
        "\n",
        "Input Format\n",
        "\n",
        "The input will be a single integer representing a mobile number.\n",
        "Output Format\n",
        "\n",
        "\n",
        "The output would be True if the condition holds else False\n",
        "\n",
        "Sample Input:\n",
        "\n",
        "9999999999\n",
        "\n",
        "Sample Output:\n",
        "\n",
        "False\n",
        "\n",
        "Note: All the mobile numbers in this problem are hypothetical"
      ],
      "metadata": {
        "id": "3Vlmb5qdnA1A"
      }
    },
    {
      "cell_type": "code",
      "source": [
        "N=int(input())\n",
        "M=1234880990\n",
        "print(N<M)"
      ],
      "metadata": {
        "colab": {
          "base_uri": "https://localhost:8080/"
        },
        "id": "N9tZHSy3lLn8",
        "outputId": "d1cec43b-a895-4cb6-adb5-66764ddd45d1"
      },
      "execution_count": 4,
      "outputs": [
        {
          "output_type": "stream",
          "name": "stdout",
          "text": [
            "12333\n",
            "True\n"
          ]
        }
      ]
    },
    {
      "cell_type": "markdown",
      "source": [
        "Ques 5. String Concatenation Python\n",
        "\n",
        "What is the result of the following expression in Python?\n",
        "\n",
        "print(\"54\" + \"23\")"
      ],
      "metadata": {
        "id": "SUsYNz9wnW1o"
      }
    },
    {
      "cell_type": "code",
      "source": [
        "print(\"54\" + \"23\")"
      ],
      "metadata": {
        "colab": {
          "base_uri": "https://localhost:8080/"
        },
        "id": "ElywwhPWnNCm",
        "outputId": "3c9e23bc-e193-4972-af20-9f05d4904b7a"
      },
      "execution_count": 6,
      "outputs": [
        {
          "output_type": "stream",
          "name": "stdout",
          "text": [
            "5423\n"
          ]
        }
      ]
    },
    {
      "cell_type": "code",
      "source": [
        "print(True==1)"
      ],
      "metadata": {
        "colab": {
          "base_uri": "https://localhost:8080/"
        },
        "id": "U26eVLm9nhE2",
        "outputId": "fa8aaae7-ef3c-47fa-f189-824bf1043105"
      },
      "execution_count": 7,
      "outputs": [
        {
          "output_type": "stream",
          "name": "stdout",
          "text": [
            "True\n"
          ]
        }
      ]
    },
    {
      "cell_type": "markdown",
      "source": [
        "***Additional Problems***"
      ],
      "metadata": {
        "id": "Qsxa5zFaoemJ"
      }
    },
    {
      "cell_type": "markdown",
      "source": [
        "Ques 1. True = 1?\n",
        "\n",
        "What is the result of the following expression in Python?\n",
        "\n",
        "print(True == 1)"
      ],
      "metadata": {
        "id": "nYFYDtxtolgM"
      }
    },
    {
      "cell_type": "code",
      "source": [
        "print(True==1)"
      ],
      "metadata": {
        "colab": {
          "base_uri": "https://localhost:8080/"
        },
        "id": "OU8_JXKjnvXQ",
        "outputId": "cc8608bf-7cec-4e7a-b94b-f796395fbce0"
      },
      "execution_count": 10,
      "outputs": [
        {
          "output_type": "stream",
          "name": "stdout",
          "text": [
            "True\n"
          ]
        }
      ]
    },
    {
      "cell_type": "markdown",
      "source": [
        "Ques 2. '1' == 1?\n",
        "\n",
        "What is the result of the following expression in Python?\n",
        "\n",
        "print(\"1\" == 1)"
      ],
      "metadata": {
        "id": "-W_gnXmGpC6d"
      }
    },
    {
      "cell_type": "code",
      "source": [
        "print(\"1\" == 1)"
      ],
      "metadata": {
        "colab": {
          "base_uri": "https://localhost:8080/"
        },
        "id": "VLWQTjVWop96",
        "outputId": "d175cb6c-eb4d-4c90-b307-57915adac31c"
      },
      "execution_count": 11,
      "outputs": [
        {
          "output_type": "stream",
          "name": "stdout",
          "text": [
            "False\n"
          ]
        }
      ]
    },
    {
      "cell_type": "markdown",
      "source": [
        "Ques 3. Python Division\n",
        "\n",
        "What is the output for the following statements?\n",
        "\n",
        "x = 55 / 11\n",
        "\n",
        "print(x)"
      ],
      "metadata": {
        "id": "JO4Rf5UppLRZ"
      }
    },
    {
      "cell_type": "code",
      "source": [
        "\n",
        "x = 55 / 11\n",
        "\n",
        "print(x)"
      ],
      "metadata": {
        "colab": {
          "base_uri": "https://localhost:8080/"
        },
        "id": "RtWRIMOfpHbu",
        "outputId": "e0f2fcb7-f1f4-4610-b22a-265d043ad321"
      },
      "execution_count": 12,
      "outputs": [
        {
          "output_type": "stream",
          "name": "stdout",
          "text": [
            "5.0\n"
          ]
        }
      ]
    },
    {
      "cell_type": "markdown",
      "source": [
        "Ques 4. Allowed to Vote 2\n",
        "\n",
        "You are asked to verify whether a given person is eligible to vote or not in the upcoming elections.\n",
        "\n",
        "Take the citizenship and age of the person as input.\n",
        "\n",
        "If his/her citizenship is \"Indian\" and age is greater than or equal to 18, then print True else print False.\n",
        "\n",
        "Input Format:\n",
        "\n",
        "string\n",
        "\n",
        "int\n",
        "\n",
        "Output Format:\n",
        "\n",
        "boolean\n",
        "\n",
        "Input Sample:\n",
        "\n",
        "American\n",
        "\n",
        "18\n",
        "\n",
        "Output Sample:\n",
        "\n",
        "False"
      ],
      "metadata": {
        "id": "XajI_EaGq86V"
      }
    },
    {
      "cell_type": "code",
      "source": [
        "a=input()\n",
        "b=int(input())\n",
        "print(a==\"Indian\" and b>=18)  #== is used instead of = as = is assignment operator"
      ],
      "metadata": {
        "colab": {
          "base_uri": "https://localhost:8080/"
        },
        "id": "DbsxrS8vpRgq",
        "outputId": "84021726-3382-4374-ea80-e0afc298c8d5"
      },
      "execution_count": 13,
      "outputs": [
        {
          "output_type": "stream",
          "name": "stdout",
          "text": [
            "American\n",
            "29\n",
            "False\n"
          ]
        }
      ]
    },
    {
      "cell_type": "code",
      "source": [],
      "metadata": {
        "id": "K3e7XeoErYMx"
      },
      "execution_count": null,
      "outputs": []
    }
  ]
}