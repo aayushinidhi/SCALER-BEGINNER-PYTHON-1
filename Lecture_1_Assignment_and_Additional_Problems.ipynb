{
  "nbformat": 4,
  "nbformat_minor": 0,
  "metadata": {
    "colab": {
      "provenance": []
    },
    "kernelspec": {
      "name": "python3",
      "display_name": "Python 3"
    },
    "language_info": {
      "name": "python"
    }
  },
  "cells": [
    {
      "cell_type": "markdown",
      "source": [
        "# ***ASSIGNMENT***"
      ],
      "metadata": {
        "id": "0maVyw1-FyvG"
      }
    },
    {
      "cell_type": "markdown",
      "source": [
        "**Q1. Hello Name**\n",
        "\n",
        "\n",
        "Take a name A as input from the user and print \"Hello A\", where A is the name in input.\n",
        "\n",
        "Problem Constraints\n",
        "\n",
        "1 <= len(A) <= 15 Characters in A are in lowercase English Alphabets.\n",
        "Input Format\n",
        "\n",
        "There is a single input line, which is the string **A**.\n",
        "Output Format\n",
        "\n",
        "Print in a single line \"Hello A\" without quotes.\n",
        "Example Input\n",
        "\n",
        "Input 1:-\n",
        "\n",
        "Ram\n",
        "\n",
        "Input 2:-\n",
        "\n",
        "Shyam\n",
        "\n",
        "Example Output\n",
        "\n",
        "Output 1:-\n",
        "\n",
        "Hello Ram\n",
        "\n",
        "Output 2:-\n",
        "\n",
        "Hello Shyam"
      ],
      "metadata": {
        "id": "TcuI0-mM-a9P"
      }
    },
    {
      "cell_type": "code",
      "source": [
        "def main():\n",
        "    name=input()\n",
        "    print(\"Hello\",name)\n",
        "\n",
        "    return 0\n",
        "\n",
        "if __name__ == '__main__':\n",
        "    main()"
      ],
      "metadata": {
        "colab": {
          "base_uri": "https://localhost:8080/"
        },
        "id": "WVxG8XOu-cJh",
        "outputId": "baa8b684-3aca-4eb8-d0e4-02c129a90cea"
      },
      "execution_count": 1,
      "outputs": [
        {
          "output_type": "stream",
          "name": "stdout",
          "text": [
            "Aayushi\n",
            "Hello Aayushi\n"
          ]
        }
      ]
    },
    {
      "cell_type": "markdown",
      "source": [
        "**Q2. Simple Maths**\n",
        "\n",
        "Problem Description\n",
        "Perform the following operations on 6 and 3 and print their respective outputs in different lines.\n",
        "\n",
        "1. Addition\n",
        "2. Subtraction\n",
        "3. Multiplication\n",
        "4. Division\n",
        "\n",
        "\n",
        "Output Format\n",
        "Print the output of 6+3, 6-3, 6*3, 6/3 in separate lines.\n",
        "\n",
        "\n",
        "Example Output\n",
        "\n",
        "9\n",
        "\n",
        "3\n",
        "\n",
        "18\n",
        "\n",
        "2.0\n",
        "\n",
        "\n",
        "Example Explanation\n",
        "\n",
        "6 + 3 = 9\n",
        "\n",
        "6 - 3 = 3\n",
        "\n",
        "6 * 3 = 18\n",
        "\n",
        "6 / 3 = 2.0\n"
      ],
      "metadata": {
        "id": "UH_4mLiw_uCd"
      }
    },
    {
      "cell_type": "code",
      "source": [
        "a=6\n",
        "b=3\n",
        "sum=a+b\n",
        "diff=a-b\n",
        "mul=a*b\n",
        "div=a/b       #float division-> /  and integer division->//\n",
        "print(sum)\n",
        "print(diff)\n",
        "print(mul)\n",
        "print(div)"
      ],
      "metadata": {
        "colab": {
          "base_uri": "https://localhost:8080/"
        },
        "id": "8oNvq79H_Zq4",
        "outputId": "8581921b-8e74-4dd8-921d-02e7d1a49382"
      },
      "execution_count": 4,
      "outputs": [
        {
          "output_type": "stream",
          "name": "stdout",
          "text": [
            "9\n",
            "3\n",
            "18\n",
            "2.0\n"
          ]
        }
      ]
    },
    {
      "cell_type": "markdown",
      "source": [
        "**Q3. Print A B C D E**\n",
        "\n",
        "Problem Description\n",
        "Print the first five letters of the English alphabet i.e. A, B, C, D and E.\n",
        "\n",
        "\n",
        "Output Format\n",
        "Print the characters in separate lines.\n",
        "\n",
        "\n",
        "Example Output\n",
        "\n",
        "A\n",
        "\n",
        "B\n",
        "\n",
        "C\n",
        "\n",
        "D\n",
        "\n",
        "E\n",
        "\n"
      ],
      "metadata": {
        "id": "arFc7S48ArsP"
      }
    },
    {
      "cell_type": "code",
      "source": [
        "print(\"A\")\n",
        "print(\"B\")\n",
        "print(\"C\")\n",
        "print(\"D\")\n",
        "print(\"E\")\n"
      ],
      "metadata": {
        "colab": {
          "base_uri": "https://localhost:8080/"
        },
        "id": "a86o9Ch0AkEc",
        "outputId": "9597483a-0c78-4795-ff4f-c02a17f6e2a9"
      },
      "execution_count": 5,
      "outputs": [
        {
          "output_type": "stream",
          "name": "stdout",
          "text": [
            "A\n",
            "B\n",
            "C\n",
            "D\n",
            "E\n"
          ]
        }
      ]
    },
    {
      "cell_type": "markdown",
      "source": [
        "**Q4. Getting Started - 2**\n",
        "\n",
        "Problem Description\n",
        "\n",
        "Your friend Rahul plans to visit exotic countries all around the world. Sadly, Rahul's math skills aren't good enough. Take the amount of money Rahul has before the currency exchange and the amount of money that is spent from his savings as input, print the amount of money that remains in his savings.\n",
        "\n",
        "Input Format\n",
        "\n",
        "The first line contains an integer N denoting the total savings, the amount of money before exchange.\n",
        "The second line contains an integer M denoting the exchanging amount, denoting the amount of money that is spent from the savings.\n",
        "Output Format\n",
        "\n",
        "Print a single line denoting the amount of money that is left in his savings.\n",
        "Problem Constraints\n",
        "\n",
        "1 <= N <= 1000\n",
        "1 <= M <= N\n",
        "Example Input\n",
        "\n",
        "Input:-\n",
        "\n",
        "116\n",
        "\n",
        "12\n",
        "\n",
        "Example Output\n",
        "\n",
        "Output:-\n",
        "\n",
        "104\n",
        "\n",
        "Note: The problem constraints mean that when we test your code, the test cases used in the backend can have input values only within those constraints. You need not implement them in your code. You must ensure your code will work for all such input values!"
      ],
      "metadata": {
        "id": "uaCxLtfqBker"
      }
    },
    {
      "cell_type": "code",
      "source": [
        "N=int(input()) #type conversion\n",
        "M=int(input())\n",
        "O=N-M\n",
        "print(O)"
      ],
      "metadata": {
        "colab": {
          "base_uri": "https://localhost:8080/"
        },
        "id": "fPeTJVdwBVWZ",
        "outputId": "21dcf94c-dbeb-4c09-848c-95dd45b9d5d7"
      },
      "execution_count": 6,
      "outputs": [
        {
          "output_type": "stream",
          "name": "stdout",
          "text": [
            "112\n",
            "10\n",
            "102\n"
          ]
        }
      ]
    },
    {
      "cell_type": "markdown",
      "source": [
        "**Q5. A says Hi to B**\n",
        "Problem Description\n",
        "Take two names A and B as input from the user, print \"A says Hi to B\" (Without quotations), where A and B are the names in input.\n",
        "\n",
        "Problem Constraints\n",
        "1 <= len(A), len(B) <= 15\n",
        "Characters in A and B are in lowercase English Alphabets.\n",
        "\n",
        "\n",
        "Input Format\n",
        "\n",
        "There are two input lines\n",
        "\n",
        "The first line has a string A.\n",
        "\n",
        "The second line has a string B.\n",
        "\n",
        "\n",
        "Output Format\n",
        "\n",
        "Print in a single line A says Hi to B.\n",
        "\n",
        "\n",
        "Example Input\n",
        "\n",
        "Input:-\n",
        "\n",
        "Ram\n",
        "\n",
        "Shyam\n",
        "\n",
        "\n",
        "Example Output\n",
        "\n",
        "Output:-\n",
        "\n",
        "Ram says Hi to Shyam\n",
        "\n",
        "\n"
      ],
      "metadata": {
        "id": "gUi4RtSsD5kg"
      }
    },
    {
      "cell_type": "code",
      "source": [
        "name1=input()\n",
        "name2=input()\n",
        "print(name1,\"says Hi to\",name2)"
      ],
      "metadata": {
        "colab": {
          "base_uri": "https://localhost:8080/"
        },
        "id": "Jbo_VUrnDvJE",
        "outputId": "af83fd57-65d0-437d-8bc1-e97965436413"
      },
      "execution_count": 7,
      "outputs": [
        {
          "output_type": "stream",
          "name": "stdout",
          "text": [
            "Vaibhav\n",
            "Aayushi\n",
            "Vaibhav says Hi to Aayushi\n"
          ]
        }
      ]
    },
    {
      "cell_type": "code",
      "source": [
        "name1=input()\n",
        "name2=input()                                 # using + operator to perform string Concatenation\n",
        "print(name1+\" \"+\"says Hi to\"+\" \"+name2)"
      ],
      "metadata": {
        "colab": {
          "base_uri": "https://localhost:8080/"
        },
        "id": "Vjc5Io0sE9b3",
        "outputId": "4fe4dbc9-0546-4390-aa24-10ca8a39b8ab"
      },
      "execution_count": 10,
      "outputs": [
        {
          "output_type": "stream",
          "name": "stdout",
          "text": [
            "Vaibhav\n",
            "Aayushi\n",
            "Vaibhav says Hi to Aayushi\n"
          ]
        }
      ]
    },
    {
      "cell_type": "markdown",
      "source": [
        "# ***ADDITIONAL PROBLEMS***"
      ],
      "metadata": {
        "id": "tSYOs_eOF_q1"
      }
    },
    {
      "cell_type": "markdown",
      "source": [
        "**Q1. Remaining Bake Time**\n",
        "Problem Description\n",
        "You're going to write some code to help you cook a gorgeous lasagna from your favorite cookbook. According to your cookbook, the Lasagna should be in the oven for 40 minutes. Given the time (in minutes), the lasagna has been in the oven, find how many more minutes the lasagna still needs to bake for.\n",
        "\n",
        "\n",
        "Problem Constraints\n",
        "0 <= N <= 40\n",
        "\n",
        "\n",
        "Input Format\n",
        "\n",
        "The only first line contains the integer N, denoting the actual time (in minutes) the lasagna has been in the oven for.\n",
        "\n",
        "\n",
        "Output Format\n",
        "\n",
        "Print in a single line how many minutes the lasagna needs to bake.\n",
        "\n",
        "\n",
        "Example Input\n",
        "\n",
        "Input:\n",
        "\n",
        "30\n",
        "\n",
        "\n",
        "Example Output\n",
        "\n",
        "Output:\n",
        "\n",
        "10\n",
        "\n",
        "\n",
        "Example Explanation\n",
        "Note: The problem constraints mean that when we test your code, the test cases used in the backend can have input values only within those constraints.You need not implement them in your code.You need to make sure your code will work for all such input values!\n",
        "\n"
      ],
      "metadata": {
        "id": "wkP7rRV_GJc7"
      }
    },
    {
      "cell_type": "code",
      "source": [
        "N=int(input())\n",
        "M=40\n",
        "print(M-N)"
      ],
      "metadata": {
        "colab": {
          "base_uri": "https://localhost:8080/"
        },
        "id": "-MdodONzFe9e",
        "outputId": "c1874578-beb0-46e6-d178-b2a2c0178637"
      },
      "execution_count": 11,
      "outputs": [
        {
          "output_type": "stream",
          "name": "stdout",
          "text": [
            "25\n",
            "15\n"
          ]
        }
      ]
    },
    {
      "cell_type": "markdown",
      "source": [
        "**Q2. Preparation Time**\n",
        "\n",
        "Problem Description\n",
        "You'll write some code to help you cook a gorgeous lasagna from your favorite cookbook. Now, you also want to add a few layers to the lasagna. Assume **each layer takes 2 minutes** to prepare. Given the number of layers you want to add to the lasagna, find how many minutes you would spend making them.\n",
        "\n",
        "\n",
        "Input Format\n",
        "The only first line contains the integer N denoting the number of layers.\n",
        "\n",
        "\n",
        "Output Format\n",
        "Print in a single line how many minutes are required to prepare N layers.\n",
        "\n",
        "\n",
        "Example Input\n",
        "\n",
        "Input:-\n",
        "\n",
        "2\n",
        "\n",
        "\n",
        "Example Output\n",
        "\n",
        "Output:-\n",
        "\n",
        "4\n",
        "\n",
        "\n",
        "Example Explanation\n",
        "Note: The problem constraints mean that when we test your code, the test cases used in the backend can have input values only within those constraints. You need not implement them in your code. You must ensure your code will work for all such input values!\n",
        "\n"
      ],
      "metadata": {
        "id": "5v66uDeKHpIi"
      }
    },
    {
      "cell_type": "code",
      "source": [
        "def main():\n",
        "    N=int(input())\n",
        "    print(2*N)\n",
        "    return 0\n",
        "\n",
        "if __name__ == '__main__':\n",
        "    main()"
      ],
      "metadata": {
        "colab": {
          "base_uri": "https://localhost:8080/"
        },
        "id": "hDildCRcFE9X",
        "outputId": "69423183-9ab5-4bb8-ca1a-b5706930e5db"
      },
      "execution_count": 12,
      "outputs": [
        {
          "output_type": "stream",
          "name": "stdout",
          "text": [
            "4\n",
            "8\n"
          ]
        }
      ]
    },
    {
      "cell_type": "markdown",
      "source": [
        "**Q3. Total Elapsed Cooking Time**\n",
        "\n",
        "Problem Description\n",
        "You wrote some code to help you cook a gorgeous lasagna from your favorite cookbook. Now, you want to find the total number of minutes you've been cooking for the sum of your preparation time and the time the lasagna has already spent baking in the oven. The preparation time of one layer is 2 minutes. Given the number of layers added to the lasagna and the number of minutes the lasagna has been baking in the oven, find the total elapsed cooking time (prep + bake) in minutes.\n",
        "\n",
        "\n",
        "Problem Constraints\n",
        "\n",
        "1 <= N <= 20\n",
        "\n",
        "0 <= M <= 40\n",
        "\n",
        "\n",
        "Input Format\n",
        "There are 2 lines in the input.\n",
        "The first line contains the integer N denoting the number of layers.\n",
        "The second line contains the integer M denoting the time the lasagna has already spent baking in the oven.\n",
        "\n",
        "\n",
        "Output Format\n",
        "Print in a single line the total elapsed cooking time.\n",
        "\n",
        "\n",
        "Example Input\n",
        "\n",
        "Input 1:-\n",
        "\n",
        "3\n",
        "\n",
        "20\n",
        "\n",
        "Input 2:-\n",
        "\n",
        "1\n",
        "\n",
        "29\n",
        "\n",
        "\n",
        "Example Output\n",
        "\n",
        "Output 1:-\n",
        "\n",
        "26\n",
        "\n",
        "Output 2:-\n",
        "\n",
        "31"
      ],
      "metadata": {
        "id": "Rnxhr76qIgSy"
      }
    },
    {
      "cell_type": "code",
      "source": [
        "N=int(input())\n",
        "M=int(input())\n",
        "E=(2*N)+M\n",
        "print(E)\n"
      ],
      "metadata": {
        "colab": {
          "base_uri": "https://localhost:8080/"
        },
        "id": "6iaYH3LCIZ49",
        "outputId": "0ea79cb3-8f53-45ca-c3bd-a3178887eef4"
      },
      "execution_count": 13,
      "outputs": [
        {
          "output_type": "stream",
          "name": "stdout",
          "text": [
            "2\n",
            "26\n",
            "30\n"
          ]
        }
      ]
    },
    {
      "cell_type": "markdown",
      "source": [
        "**Q4. Total Bills Value**\n",
        "\n",
        "Problem Description\n",
        "Given the value of a single bill and the number of bills you received, print the total value of the bills.\n",
        "\n",
        "Note: The value of all the bills are same\n",
        "\n",
        "\n",
        "Problem Constraints\n",
        "\n",
        "1 <= N <= 100\n",
        "\n",
        "1 <= M <= 100\n",
        "\n",
        "\n",
        "Input Format\n",
        "The first line of the input is an integer N denoting the value of a single bill.\n",
        "The second line of the input is an integer M denoting the number of bills.\n",
        "\n",
        "\n",
        "Output Format\n",
        "Print in a single line denoting the total value of bills.\n",
        "\n",
        "\n",
        "Example Input\n",
        "\n",
        "Input:-\n",
        "\n",
        "12\n",
        "\n",
        "10\n",
        "\n",
        "\n",
        "Example Output\n",
        "\n",
        "Output:-\n",
        "\n",
        "120\n",
        "\n",
        "\n",
        "Example Explanation\n",
        "Note: The problem constraints mean that when we test your code, the test cases used in the backend can have input values only within those constraints. You need not implement them in your code. You need to make sure your code will work for all such input values!"
      ],
      "metadata": {
        "id": "5OVtERMbKgwX"
      }
    },
    {
      "cell_type": "code",
      "source": [
        "N=int(input())\n",
        "M=int(input())\n",
        "print(N*M)"
      ],
      "metadata": {
        "colab": {
          "base_uri": "https://localhost:8080/"
        },
        "id": "cWwJVpGAJ62V",
        "outputId": "ab184e2e-b4c5-4cdf-a040-6cd9e757ffb9"
      },
      "execution_count": 14,
      "outputs": [
        {
          "output_type": "stream",
          "name": "stdout",
          "text": [
            "12\n",
            "10\n",
            "120\n"
          ]
        }
      ]
    },
    {
      "cell_type": "markdown",
      "source": [
        "**Q5. Explicit conversion**\n",
        "\n",
        "What will be the output of the following piece of code?\n",
        "\n",
        "a = \"13.56\"\n",
        "\n",
        "print(float(a))"
      ],
      "metadata": {
        "id": "LvPyCsyoNZmL"
      }
    },
    {
      "cell_type": "code",
      "source": [
        "a=\"13.56\"\n",
        "print(type(a))\n",
        "m=print(float(a)) #type conversion\n",
        "print(type(float(a)))\n"
      ],
      "metadata": {
        "colab": {
          "base_uri": "https://localhost:8080/"
        },
        "id": "tBO2wbkrLnaI",
        "outputId": "775db064-bda5-4d45-e3fb-e7b1503df168"
      },
      "execution_count": 23,
      "outputs": [
        {
          "output_type": "stream",
          "name": "stdout",
          "text": [
            "<class 'str'>\n",
            "13.56\n",
            "<class 'float'>\n"
          ]
        }
      ]
    },
    {
      "cell_type": "code",
      "source": [
        "m=\"abc\"\n",
        "print(m)                     #n Python, the print function always returns None\n",
        "type(print(m))"
      ],
      "metadata": {
        "colab": {
          "base_uri": "https://localhost:8080/"
        },
        "id": "R8FbVtCVO2rG",
        "outputId": "1b4587c6-3738-4f29-d746-14944778f819"
      },
      "execution_count": 25,
      "outputs": [
        {
          "output_type": "stream",
          "name": "stdout",
          "text": [
            "abc\n",
            "abc\n"
          ]
        },
        {
          "output_type": "execute_result",
          "data": {
            "text/plain": [
              "NoneType"
            ]
          },
          "metadata": {},
          "execution_count": 25
        }
      ]
    },
    {
      "cell_type": "code",
      "source": [],
      "metadata": {
        "id": "vUbju2noPYfG"
      },
      "execution_count": null,
      "outputs": []
    }
  ]
}