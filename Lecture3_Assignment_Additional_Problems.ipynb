{
  "nbformat": 4,
  "nbformat_minor": 0,
  "metadata": {
    "colab": {
      "provenance": []
    },
    "kernelspec": {
      "name": "python3",
      "display_name": "Python 3"
    },
    "language_info": {
      "name": "python"
    }
  },
  "cells": [
    {
      "cell_type": "markdown",
      "source": [
        "***ASSIGNMENT PROBLEMS***"
      ],
      "metadata": {
        "id": "Rbz1dbdp8OYt"
      }
    },
    {
      "cell_type": "markdown",
      "source": [
        "**Q1. Angles Of Valid Triangle?**\n",
        "\n",
        "\n",
        "You are given 3 integer angles(in degrees) A, B and C of a triangle. You have to tell whether the triangle is valid or not.\n",
        "\n",
        "A triangle is valid if sum of its angles equals to 180.\n",
        "\n",
        "NOTE: You have to take the input of 3 sides of triangle from the user.\n",
        "\n",
        "\n",
        "Problem Constraints\n",
        "\n",
        "1 <= A, B, C <= 180\n",
        "\n",
        "\n",
        "\n",
        "Input Format\n",
        "\n",
        "First line of the input contains an integer A.\n",
        "\n",
        "Second line of the input contains an integer B.\n",
        "\n",
        "Third line of the input contains an integer C.\n",
        "\n",
        "\n",
        "\n",
        "Output Format\n",
        "\n",
        "Print 1 if the triangle having given sides is valid, else print 0.\n",
        "\n",
        "\n",
        "\n",
        "Example Input\n",
        "\n",
        "Input 1:\n",
        "\n",
        " 60\n",
        "\n",
        " 60\n",
        "\n",
        " 60\n",
        "Input 2:\n",
        "\n",
        " 30\n",
        "\n",
        " 40\n",
        "\n",
        " 50\n",
        "\n",
        "\n",
        "Example Output\n",
        "\n",
        "Output 1:\n",
        "\n",
        " 1\n",
        "\n",
        "Output 2:\n",
        "\n",
        " 0\n",
        "\n",
        "\n"
      ],
      "metadata": {
        "id": "PNcYwk8F4nIx"
      }
    },
    {
      "cell_type": "code",
      "execution_count": 1,
      "metadata": {
        "colab": {
          "base_uri": "https://localhost:8080/"
        },
        "id": "Ee5Q1Bk-3TUv",
        "outputId": "7f976655-813f-4be6-f392-4d544bdb2e07"
      },
      "outputs": [
        {
          "output_type": "stream",
          "name": "stdout",
          "text": [
            "60\n",
            "60\n",
            "10\n",
            "0\n"
          ]
        }
      ],
      "source": [
        "a=int(input())\n",
        "b=int(input())\n",
        "c=int(input())\n",
        "sum=a+b+c\n",
        "if sum==180:\n",
        "    print(\"1\")\n",
        "else:\n",
        "    print(\"0\")"
      ]
    },
    {
      "cell_type": "markdown",
      "source": [
        "**Q2. Profit Or Loss**\n",
        "\n",
        "\n",
        "You are given the Cost Price C and Selling Price S of a Product. You have to tell whether there is a Profit or Loss. Also, calculate total profit or loss.\n",
        "\n",
        "NOTE: It is guaranteed that Cost Price and Selling Price are not equal.\n",
        "\n",
        "NOTE: You have to take input of the Cost Price(C) and Selling Price(S) from the user.\n",
        "\n",
        "\n",
        "\n",
        "Problem Constraints\n",
        "\n",
        "1 <= C, S <= 109\n",
        "\n",
        "C ≠ S\n",
        "\n",
        "\n",
        "\n",
        "Input Format\n",
        "\n",
        "First line of the input contains a single integer C.\n",
        "\n",
        "Second line of the input contains a single integer S.\n",
        "\n",
        "\n",
        "\n",
        "Output Format\n",
        "\n",
        "Print two integers in separate lines.\n",
        "\n",
        "First integer denotes whether there is a profit or loss. If there is a profit, print 1, else print -1.\n",
        "\n",
        "Second integer is a non-negative integer denoting the absolute value of total profit or loss.\n",
        "\n",
        "\n",
        "\n",
        "Example Input\n",
        "\n",
        "Input 1:\n",
        "\n",
        " 2\n",
        "\n",
        " 4\n",
        "Input 2:\n",
        "\n",
        " 4\n",
        "\n",
        " 1\n",
        "\n",
        "\n",
        "Example Output\n",
        "\n",
        "Output 1:\n",
        "\n",
        " 1\n",
        "\n",
        " 2\n",
        "\n",
        "Output 2:\n",
        "\n",
        " -1\n",
        "\n",
        " 3"
      ],
      "metadata": {
        "id": "4jOSyuD16OWy"
      }
    },
    {
      "cell_type": "code",
      "source": [
        "cost_price=int(input())\n",
        "selling_price=int(input())\n",
        "profit = selling_price-cost_price\n",
        "loss=cost_price-selling_price\n",
        "if selling_price>cost_price:\n",
        "    print(\"1\")\n",
        "    print(profit)\n",
        "else:\n",
        "    print(\"-1\")\n",
        "    print(loss)"
      ],
      "metadata": {
        "colab": {
          "base_uri": "https://localhost:8080/"
        },
        "id": "A_89dDJI43Gg",
        "outputId": "561a427c-e35a-4880-d711-f6c75e4ede57"
      },
      "execution_count": 2,
      "outputs": [
        {
          "output_type": "stream",
          "name": "stdout",
          "text": [
            "2\n",
            "4\n",
            "1\n",
            "2\n"
          ]
        }
      ]
    },
    {
      "cell_type": "markdown",
      "source": [
        "**Q3. Max of two**\n",
        "\n",
        "\n",
        "Write a program to input two numbers(A & B) from user and print the maximum element among A & B.\n",
        "\n",
        "\n",
        "Problem Constraints\n",
        "\n",
        "1 <= A <= 1000000\n",
        "\n",
        "1 <= B <= 1000000\n",
        "\n",
        "\n",
        "\n",
        "Input Format\n",
        "\n",
        "First line is a single integer A.\n",
        "\n",
        "Second line is a single integer B.\n",
        "\n",
        "\n",
        "\n",
        "Output Format\n",
        "\n",
        "One line containing the greater integer A or B.\n",
        "\n",
        "\n",
        "\n",
        "Example Input\n",
        "\n",
        "Input 1:\n",
        "\n",
        "5\n",
        "\n",
        "6\n",
        "\n",
        "Input 2:\n",
        "\n",
        "1000\n",
        "\n",
        "10000\n",
        "\n",
        "\n",
        "Example Output\n",
        "\n",
        "Output 1:\n",
        "\n",
        "6\n",
        "\n",
        "Output 2:\n",
        "\n",
        "10000"
      ],
      "metadata": {
        "id": "QhO6k56J68h6"
      }
    },
    {
      "cell_type": "code",
      "source": [
        "a=int(input())\n",
        "b=int(input())\n",
        "if a>b:\n",
        "    print(a)\n",
        "else:\n",
        "    print(b)"
      ],
      "metadata": {
        "colab": {
          "base_uri": "https://localhost:8080/"
        },
        "id": "GW-n-jKN6bOv",
        "outputId": "ff11f626-2685-4845-b18a-454d2d8b978f"
      },
      "execution_count": 3,
      "outputs": [
        {
          "output_type": "stream",
          "name": "stdout",
          "text": [
            "1000\n",
            "10000\n",
            "10000\n"
          ]
        }
      ]
    },
    {
      "cell_type": "markdown",
      "source": [
        "**Q4. Valid Statements**\n",
        "\n",
        "\n",
        "\n",
        "a.if a>=2:\n",
        "\n",
        "      print(\"TRUE\")\n",
        "\n",
        "b.if (a=>2):\n",
        "\n",
        "      print(\"TRUE\")\n",
        "\n",
        "c.if (a%2!=0):\n",
        "\n",
        "      print(\"TRUE\")"
      ],
      "metadata": {
        "id": "mjcyrcNU74Zn"
      }
    },
    {
      "cell_type": "code",
      "source": [
        "a=5\n",
        "if a>=2:\n",
        "  print(\"TRUE\")"
      ],
      "metadata": {
        "colab": {
          "base_uri": "https://localhost:8080/"
        },
        "id": "s_LxJVoQ7GRx",
        "outputId": "394b1608-c66a-42bd-8a18-31e6fd255051"
      },
      "execution_count": 4,
      "outputs": [
        {
          "output_type": "stream",
          "name": "stdout",
          "text": [
            "TRUE\n"
          ]
        }
      ]
    },
    {
      "cell_type": "code",
      "source": [
        "if (a%2!=0):\n",
        "  print(\"TRUE\")"
      ],
      "metadata": {
        "colab": {
          "base_uri": "https://localhost:8080/"
        },
        "id": "PVYeT2bC8DQT",
        "outputId": "24e68cd9-6bea-41ee-e58e-b6f9c1b8bc63"
      },
      "execution_count": 5,
      "outputs": [
        {
          "output_type": "stream",
          "name": "stdout",
          "text": [
            "TRUE\n"
          ]
        }
      ]
    },
    {
      "cell_type": "markdown",
      "source": [
        "**Q5. Roller Coaster Ride**\n",
        "\n",
        "\n",
        "Write a program that takes the age of the user as input and tells them if they're old enough to ride a roller coaster. The minimum age to ride the roller coaster in this question is 13.\n",
        "\n",
        "\n",
        "Input Format\n",
        "\n",
        "There is only 1 single line in the input, which is the age of the user.\n",
        "\n",
        "\n",
        "Output Format\n",
        "\n",
        "Print the following if user can ride the roller coaster:\n",
        "\n",
        "You can ride the roller coaster!\n",
        "\n",
        "Print the following if user can't ride the roller coaster:\n",
        "\n",
        "You can't ride the roller coaster.\n",
        "\n",
        "\n",
        "Example Input\n",
        "\n",
        "Input 1:-\n",
        "\n",
        "9\n",
        "\n",
        "Input 2:-\n",
        "\n",
        "13\n",
        "\n",
        "\n",
        "Example Output\n",
        "\n",
        "Output 1:-\n",
        "\n",
        "You can't ride the roller coaster.\n",
        "\n",
        "Output 2:-\n",
        "\n",
        "You can ride the roller coaster!"
      ],
      "metadata": {
        "id": "n08-EmAY81bB"
      }
    },
    {
      "cell_type": "code",
      "source": [
        "age=int(input())\n",
        "if age>=13:\n",
        "    print(\"You can ride the roller coaster!\")\n",
        "else:\n",
        "    print(\"You can't ride the roller coaster.\")"
      ],
      "metadata": {
        "colab": {
          "base_uri": "https://localhost:8080/"
        },
        "id": "SBXh9MdE8LmQ",
        "outputId": "48a1cb40-39f6-4c0f-b255-fc068c344f61"
      },
      "execution_count": 6,
      "outputs": [
        {
          "output_type": "stream",
          "name": "stdout",
          "text": [
            "16\n",
            "You can ride the roller coaster!\n"
          ]
        }
      ]
    },
    {
      "cell_type": "markdown",
      "source": [
        "***ADDITIONAL PROBLEMS***"
      ],
      "metadata": {
        "id": "tcSGz1V59Dv9"
      }
    },
    {
      "cell_type": "markdown",
      "source": [
        "***Q1. Class Performance 2***\n",
        "\n",
        "\n",
        "You have been given a dataset for marks of 2 subjects, scored by students of classes ClassA and ClassB. You now want to compare the performances of class A and class B by finding out the average performance of the classes. Write a program to find if class A performed better. Print True is Class A is strictly better else return False.\n",
        "\n",
        "\n",
        "Input Format\n",
        "\n",
        "There are 4 lines in the input.\n",
        "\n",
        "The first and second lines are marks of subjects for Class A.\n",
        "\n",
        "The third and fourth lines are marks of subjects for Class B.\n",
        "\n",
        "\n",
        "Output Format\n",
        "\n",
        "Print True if class A is strictly better else False.\n",
        "\n",
        "\n",
        "Example Input\n",
        "\n",
        "Input 1:-\n",
        "80\n",
        "\n",
        "27\n",
        "\n",
        "54\n",
        "\n",
        "61\n",
        "Input 2:-\n",
        "54\n",
        "\n",
        "61\n",
        "\n",
        "80\n",
        "\n",
        "27\n",
        "\n",
        "\n",
        "Example Output\n",
        "\n",
        "Output 1:-\n",
        "\n",
        "False\n",
        "\n",
        "Output 2:-\n",
        "\n",
        "True\n",
        "\n"
      ],
      "metadata": {
        "id": "tyC26HOlA_ms"
      }
    },
    {
      "cell_type": "code",
      "source": [
        "m1=float(input())\n",
        "m2=float(input())\n",
        "m3=float(input())\n",
        "m4=float(input())\n",
        "avg1=(m1+m2)/2\n",
        "avg2=(m3+m4)/2\n",
        "if avg1>avg2:\n",
        "    print(\"True\")\n",
        "else:\n",
        "    print(\"False\")"
      ],
      "metadata": {
        "colab": {
          "base_uri": "https://localhost:8080/"
        },
        "id": "KNPoZdEB9BAi",
        "outputId": "11557428-ffc1-48be-bd30-a787fc33203c"
      },
      "execution_count": 7,
      "outputs": [
        {
          "output_type": "stream",
          "name": "stdout",
          "text": [
            "54\n",
            "61\n",
            "80\n",
            "27\n",
            "True\n"
          ]
        }
      ]
    },
    {
      "cell_type": "markdown",
      "source": [
        "**Q2. Min of two**\n",
        "\n",
        "Write a program to input two numbers(A & B) from user and print the minimum element among A & B in each line.\n",
        "\n",
        "\n",
        "Problem Constraints\n",
        "\n",
        "1 <= A <= 1000000\n",
        "\n",
        "1 <= B <= 1000000\n",
        "\n",
        "\n",
        "\n",
        "Input Format\n",
        "\n",
        "First line is a single integer A.\n",
        "\n",
        "Second line is a single integer B.\n",
        "\n",
        "\n",
        "\n",
        "Output Format\n",
        "\n",
        "One line containing an integer as per the question.\n",
        "\n",
        "\n",
        "\n",
        "Example Input\n",
        "\n",
        "Input 1:\n",
        "\n",
        "5\n",
        "\n",
        "6\n",
        "\n",
        "Input 2:\n",
        "\n",
        "1000\n",
        "\n",
        "10000\n",
        "\n",
        "\n",
        "Example Output\n",
        "\n",
        "Output 1:\n",
        "\n",
        "5\n",
        "\n",
        "Output 2:\n",
        "\n",
        "1000"
      ],
      "metadata": {
        "id": "Rx7p77A8DQgi"
      }
    },
    {
      "cell_type": "code",
      "source": [
        "a=int(input())\n",
        "b=int(input())\n",
        "if a<b:\n",
        "    print(a)\n",
        "else:\n",
        "    print(b)"
      ],
      "metadata": {
        "colab": {
          "base_uri": "https://localhost:8080/"
        },
        "id": "73vG0DiOBLJP",
        "outputId": "be290018-68f9-4fa8-9be7-d827e9e5bdfc"
      },
      "execution_count": 9,
      "outputs": [
        {
          "output_type": "stream",
          "name": "stdout",
          "text": [
            "4\n",
            "3\n",
            "3\n"
          ]
        }
      ]
    },
    {
      "cell_type": "code",
      "source": [
        "x=1\n",
        "if x > 2:\n",
        "    x = x*2\n",
        "if x > 4:\n",
        "    x = 0\n",
        "print(x)"
      ],
      "metadata": {
        "colab": {
          "base_uri": "https://localhost:8080/"
        },
        "id": "LSTRcSrvEne7",
        "outputId": "9c1d8aea-9319-4405-af1b-63a32f61ce48"
      },
      "execution_count": 13,
      "outputs": [
        {
          "output_type": "stream",
          "name": "stdout",
          "text": [
            "1\n"
          ]
        }
      ]
    },
    {
      "cell_type": "markdown",
      "source": [
        "**Q3. What will be the output of the following code:**\n",
        "\n",
        "x = 2\n",
        "\n",
        "if x==2:\n",
        "\n",
        "    x = 3\n",
        "\n",
        "x = 4\n",
        "\n",
        "else:\n",
        "\n",
        "    x = 5\n",
        "    \n",
        "print(x)"
      ],
      "metadata": {
        "id": "I_U1fYUoJSwZ"
      }
    },
    {
      "cell_type": "code",
      "source": [
        "\n",
        "x = 2\n",
        "if x==2:\n",
        "    x = 3          # else block should be immediately below the if block hence error(x is in between if and else block)\n",
        "x = 4\n",
        "else:\n",
        "    x = 5\n",
        "print(x)"
      ],
      "metadata": {
        "colab": {
          "base_uri": "https://localhost:8080/",
          "height": 110
        },
        "id": "kH7ru0p8IB80",
        "outputId": "483601cd-050e-44e1-a1ce-83062664bde1"
      },
      "execution_count": 14,
      "outputs": [
        {
          "output_type": "error",
          "ename": "SyntaxError",
          "evalue": "invalid syntax (<ipython-input-14-f39cd7db9a9c>, line 5)",
          "traceback": [
            "\u001b[0;36m  File \u001b[0;32m\"<ipython-input-14-f39cd7db9a9c>\"\u001b[0;36m, line \u001b[0;32m5\u001b[0m\n\u001b[0;31m    else:\u001b[0m\n\u001b[0m    ^\u001b[0m\n\u001b[0;31mSyntaxError\u001b[0m\u001b[0;31m:\u001b[0m invalid syntax\n"
          ]
        }
      ]
    },
    {
      "cell_type": "markdown",
      "source": [
        "**Q4. All correct about x**\n",
        "\n",
        "You have been given the following piece of code. Assume that x has already been declared.\n",
        "\n",
        "\n",
        "if x > 2:\n",
        "\n",
        "    x = x*2\n",
        "\n",
        "if x > 4:\n",
        "\n",
        "    x = 0\n",
        "    \n",
        "print(x)"
      ],
      "metadata": {
        "id": "fUTNDhcqJsHm"
      }
    },
    {
      "cell_type": "code",
      "source": [
        "x=int(input())\n",
        "if x > 2:              #let x=4\n",
        "    x = x*2             #x=8(since 4>2)\n",
        "if x > 4:              #8>4 as now x has changed from 4 to 8  hence x=0.Thus now x is containing 0\n",
        "    x = 0\n",
        "print(x)           #out is 0 for x>2 and for x<2 output is x"
      ],
      "metadata": {
        "colab": {
          "base_uri": "https://localhost:8080/"
        },
        "id": "UkoolvV7Jd0P",
        "outputId": "5ee1653e-e2ba-4874-f768-9b4ed44f70ba"
      },
      "execution_count": 20,
      "outputs": [
        {
          "output_type": "stream",
          "name": "stdout",
          "text": [
            "8\n",
            "0\n"
          ]
        }
      ]
    },
    {
      "cell_type": "code",
      "source": [],
      "metadata": {
        "id": "_hKonBr9J1YI"
      },
      "execution_count": 16,
      "outputs": []
    }
  ]
}